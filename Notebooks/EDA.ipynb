{
 "cells": [
  {
   "cell_type": "markdown",
   "metadata": {},
   "source": [
    "# Importamos las librerias a utilizar"
   ]
  },
  {
   "cell_type": "code",
   "execution_count": 1,
   "metadata": {},
   "outputs": [],
   "source": [
    "import pandas as pd\n",
    "import numpy as np\n",
    "import seaborn as sns\n",
    "import matplotlib.pyplot as mtp"
   ]
  },
  {
   "cell_type": "markdown",
   "metadata": {},
   "source": [
    "# Leemos los archivos"
   ]
  },
  {
   "cell_type": "code",
   "execution_count": 53,
   "metadata": {},
   "outputs": [],
   "source": [
    "# Leemos las dos hojas del archivo homicidios \n",
    "hechos = pd.read_excel('../Data/homicidios.xlsx')\n",
    "victimas = pd.read_excel('../Data/homicidios.xlsx',\n",
    "                         sheet_name='VICTIMAS')"
   ]
  },
  {
   "cell_type": "markdown",
   "metadata": {},
   "source": [
    "# Organizamos y analizamos el dataframe de hechos"
   ]
  },
  {
   "cell_type": "code",
   "execution_count": 54,
   "metadata": {},
   "outputs": [
    {
     "name": "stdout",
     "output_type": "stream",
     "text": [
      "<class 'pandas.core.frame.DataFrame'>\n",
      "RangeIndex: 696 entries, 0 to 695\n",
      "Data columns (total 21 columns):\n",
      " #   Column                 Non-Null Count  Dtype         \n",
      "---  ------                 --------------  -----         \n",
      " 0   ID                     696 non-null    object        \n",
      " 1   N_VICTIMAS             696 non-null    int64         \n",
      " 2   FECHA                  696 non-null    datetime64[ns]\n",
      " 3   AAAA                   696 non-null    int64         \n",
      " 4   MM                     696 non-null    int64         \n",
      " 5   DD                     696 non-null    int64         \n",
      " 6   HORA                   696 non-null    object        \n",
      " 7   HH                     696 non-null    object        \n",
      " 8   LUGAR_DEL_HECHO        696 non-null    object        \n",
      " 9   TIPO_DE_CALLE          696 non-null    object        \n",
      " 10  Calle                  695 non-null    object        \n",
      " 11  Altura                 129 non-null    float64       \n",
      " 12  Cruce                  525 non-null    object        \n",
      " 13  Dirección Normalizada  688 non-null    object        \n",
      " 14  COMUNA                 696 non-null    int64         \n",
      " 15  XY (CABA)              696 non-null    object        \n",
      " 16  pos x                  696 non-null    object        \n",
      " 17  pos y                  696 non-null    object        \n",
      " 18  PARTICIPANTES          696 non-null    object        \n",
      " 19  VICTIMA                696 non-null    object        \n",
      " 20  ACUSADO                696 non-null    object        \n",
      "dtypes: datetime64[ns](1), float64(1), int64(5), object(14)\n",
      "memory usage: 114.3+ KB\n"
     ]
    }
   ],
   "source": [
    "hechos.info()"
   ]
  },
  {
   "cell_type": "markdown",
   "metadata": {},
   "source": [
    "Notamos que hay valores nulos en la columna cruce los cuales pueden ser hallados facil por medio de la columna Direccion Normalizada"
   ]
  },
  {
   "cell_type": "code",
   "execution_count": 57,
   "metadata": {},
   "outputs": [],
   "source": [
    "# ELimino la columna Altura ya que tiene demasiados valores nulos y no lo considere necesario para el analisis\n",
    "hechos.drop(columns='Altura', inplace=True)"
   ]
  },
  {
   "cell_type": "code",
   "execution_count": 62,
   "metadata": {},
   "outputs": [],
   "source": [
    "# Remplazamos los valores nulos de la columna Direccion Normalizada\n",
    "hechos['Dirección Normalizada'].fillna('No identificado', inplace=True)"
   ]
  },
  {
   "cell_type": "code",
   "execution_count": 76,
   "metadata": {},
   "outputs": [
    {
     "name": "stderr",
     "output_type": "stream",
     "text": [
      "C:\\Users\\LENOVO\\AppData\\Local\\Temp\\ipykernel_29144\\3227737865.py:1: FutureWarning: A value is trying to be set on a copy of a DataFrame or Series through chained assignment using an inplace method.\n",
      "The behavior will change in pandas 3.0. This inplace method will never work because the intermediate object on which we are setting values always behaves as a copy.\n",
      "\n",
      "For example, when doing 'df[col].method(value, inplace=True)', try using 'df.method({col: value}, inplace=True)' or df[col] = df[col].method(value) instead, to perform the operation inplace on the original object.\n",
      "\n",
      "\n",
      "  hechos['Calle'].fillna('No identificado', inplace=True)\n"
     ]
    }
   ],
   "source": [
    "# Remplazamos los valores nulos de la columna Calle\n",
    "hechos['Calle'].fillna('No identificado', inplace=True)"
   ]
  },
  {
   "cell_type": "code",
   "execution_count": 71,
   "metadata": {},
   "outputs": [],
   "source": [
    "# Realizamos una iteracion para hallar los cruces y poder llenar los valores faltantes desde la columna Direccion Normalizada\n",
    "nuevoscruces = []\n",
    "for indice in range(len(hechos)):     \n",
    "    separados = hechos['Dirección Normalizada'][indice].split('y ')\n",
    "    ultimoitem = len(separados)-1\n",
    "    if ultimoitem == 0:\n",
    "        nuevoscruces.append(hechos['Dirección Normalizada'][indice]) \n",
    "    else:\n",
    "        nuevoscruces.append(separados[ultimoitem])\n",
    "        "
   ]
  },
  {
   "cell_type": "code",
   "execution_count": 77,
   "metadata": {},
   "outputs": [
    {
     "name": "stdout",
     "output_type": "stream",
     "text": [
      "<class 'pandas.core.frame.DataFrame'>\n",
      "RangeIndex: 696 entries, 0 to 695\n",
      "Data columns (total 20 columns):\n",
      " #   Column                 Non-Null Count  Dtype         \n",
      "---  ------                 --------------  -----         \n",
      " 0   ID                     696 non-null    object        \n",
      " 1   N_VICTIMAS             696 non-null    int64         \n",
      " 2   FECHA                  696 non-null    datetime64[ns]\n",
      " 3   AAAA                   696 non-null    int64         \n",
      " 4   MM                     696 non-null    int64         \n",
      " 5   DD                     696 non-null    int64         \n",
      " 6   HORA                   696 non-null    object        \n",
      " 7   HH                     696 non-null    object        \n",
      " 8   LUGAR_DEL_HECHO        696 non-null    object        \n",
      " 9   TIPO_DE_CALLE          696 non-null    object        \n",
      " 10  Calle                  696 non-null    object        \n",
      " 11  Cruce                  696 non-null    object        \n",
      " 12  Dirección Normalizada  696 non-null    object        \n",
      " 13  COMUNA                 696 non-null    int64         \n",
      " 14  XY (CABA)              696 non-null    object        \n",
      " 15  pos x                  696 non-null    object        \n",
      " 16  pos y                  696 non-null    object        \n",
      " 17  PARTICIPANTES          696 non-null    object        \n",
      " 18  VICTIMA                696 non-null    object        \n",
      " 19  ACUSADO                696 non-null    object        \n",
      "dtypes: datetime64[ns](1), int64(5), object(14)\n",
      "memory usage: 108.9+ KB\n"
     ]
    }
   ],
   "source": [
    "# Analizamos de nuevo que no tengamos valores nulos\n",
    "hechos['Cruce'] = nuevoscruces\n",
    "hechos.info()"
   ]
  },
  {
   "cell_type": "markdown",
   "metadata": {},
   "source": [
    "Despues de no tener valores nulos y teniendo los valores completos procedo a tomar los valores mas relevantes para exportarlos en un archivo CSV"
   ]
  },
  {
   "cell_type": "code",
   "execution_count": 82,
   "metadata": {},
   "outputs": [
    {
     "data": {
      "text/html": [
       "<div>\n",
       "<style scoped>\n",
       "    .dataframe tbody tr th:only-of-type {\n",
       "        vertical-align: middle;\n",
       "    }\n",
       "\n",
       "    .dataframe tbody tr th {\n",
       "        vertical-align: top;\n",
       "    }\n",
       "\n",
       "    .dataframe thead th {\n",
       "        text-align: right;\n",
       "    }\n",
       "</style>\n",
       "<table border=\"1\" class=\"dataframe\">\n",
       "  <thead>\n",
       "    <tr style=\"text-align: right;\">\n",
       "      <th></th>\n",
       "      <th>ID</th>\n",
       "      <th>N_VICTIMAS</th>\n",
       "      <th>FECHA</th>\n",
       "      <th>HH</th>\n",
       "      <th>Cruce</th>\n",
       "      <th>COMUNA</th>\n",
       "      <th>pos x</th>\n",
       "      <th>pos y</th>\n",
       "      <th>VICTIMA</th>\n",
       "      <th>ACUSADO</th>\n",
       "    </tr>\n",
       "  </thead>\n",
       "  <tbody>\n",
       "    <tr>\n",
       "      <th>0</th>\n",
       "      <td>2016-0001</td>\n",
       "      <td>1</td>\n",
       "      <td>2016-01-01</td>\n",
       "      <td>4</td>\n",
       "      <td>FERNANDEZ DE LA CRUZ, F., GRAL. AV.</td>\n",
       "      <td>8</td>\n",
       "      <td>-58.47533969</td>\n",
       "      <td>-34.68757022</td>\n",
       "      <td>MOTO</td>\n",
       "      <td>AUTO</td>\n",
       "    </tr>\n",
       "    <tr>\n",
       "      <th>1</th>\n",
       "      <td>2016-0002</td>\n",
       "      <td>1</td>\n",
       "      <td>2016-01-02</td>\n",
       "      <td>1</td>\n",
       "      <td>DE LOS CORRALES AV.</td>\n",
       "      <td>9</td>\n",
       "      <td>-58.50877521</td>\n",
       "      <td>-34.66977709</td>\n",
       "      <td>AUTO</td>\n",
       "      <td>PASAJEROS</td>\n",
       "    </tr>\n",
       "    <tr>\n",
       "      <th>2</th>\n",
       "      <td>2016-0003</td>\n",
       "      <td>1</td>\n",
       "      <td>2016-01-03</td>\n",
       "      <td>7</td>\n",
       "      <td>ENTRE RIOS AV. 2034</td>\n",
       "      <td>1</td>\n",
       "      <td>-58.39040293</td>\n",
       "      <td>-34.63189362</td>\n",
       "      <td>MOTO</td>\n",
       "      <td>AUTO</td>\n",
       "    </tr>\n",
       "    <tr>\n",
       "      <th>3</th>\n",
       "      <td>2016-0004</td>\n",
       "      <td>1</td>\n",
       "      <td>2016-01-10</td>\n",
       "      <td>0</td>\n",
       "      <td>VILLEGAS, CONRADO, GRAL.</td>\n",
       "      <td>8</td>\n",
       "      <td>-58.46503904</td>\n",
       "      <td>-34.68092974</td>\n",
       "      <td>MOTO</td>\n",
       "      <td>SD</td>\n",
       "    </tr>\n",
       "    <tr>\n",
       "      <th>4</th>\n",
       "      <td>2016-0005</td>\n",
       "      <td>1</td>\n",
       "      <td>2016-01-21</td>\n",
       "      <td>5</td>\n",
       "      <td>SAENZ PEÃ‘A, LUIS, PRES.</td>\n",
       "      <td>1</td>\n",
       "      <td>-58.38718297</td>\n",
       "      <td>-34.62246630</td>\n",
       "      <td>MOTO</td>\n",
       "      <td>PASAJEROS</td>\n",
       "    </tr>\n",
       "    <tr>\n",
       "      <th>...</th>\n",
       "      <td>...</td>\n",
       "      <td>...</td>\n",
       "      <td>...</td>\n",
       "      <td>...</td>\n",
       "      <td>...</td>\n",
       "      <td>...</td>\n",
       "      <td>...</td>\n",
       "      <td>...</td>\n",
       "      <td>...</td>\n",
       "      <td>...</td>\n",
       "    </tr>\n",
       "    <tr>\n",
       "      <th>691</th>\n",
       "      <td>2021-0093</td>\n",
       "      <td>1</td>\n",
       "      <td>2021-12-13</td>\n",
       "      <td>17</td>\n",
       "      <td>MOM</td>\n",
       "      <td>7</td>\n",
       "      <td>-58.43353773</td>\n",
       "      <td>-34.64561636</td>\n",
       "      <td>MOTO</td>\n",
       "      <td>AUTO</td>\n",
       "    </tr>\n",
       "    <tr>\n",
       "      <th>692</th>\n",
       "      <td>2021-0094</td>\n",
       "      <td>1</td>\n",
       "      <td>2021-12-20</td>\n",
       "      <td>1</td>\n",
       "      <td>LACARRA AV.</td>\n",
       "      <td>9</td>\n",
       "      <td>-58.46739825</td>\n",
       "      <td>-34.65117757</td>\n",
       "      <td>MOTO</td>\n",
       "      <td>AUTO</td>\n",
       "    </tr>\n",
       "    <tr>\n",
       "      <th>693</th>\n",
       "      <td>2021-0095</td>\n",
       "      <td>1</td>\n",
       "      <td>2021-12-30</td>\n",
       "      <td>0</td>\n",
       "      <td>TERRADA</td>\n",
       "      <td>11</td>\n",
       "      <td>-58.47293407</td>\n",
       "      <td>-34.61984745</td>\n",
       "      <td>MOTO</td>\n",
       "      <td>CARGAS</td>\n",
       "    </tr>\n",
       "    <tr>\n",
       "      <th>694</th>\n",
       "      <td>2021-0096</td>\n",
       "      <td>1</td>\n",
       "      <td>2021-12-15</td>\n",
       "      <td>10</td>\n",
       "      <td>PERON, EVA AV. 4071</td>\n",
       "      <td>9</td>\n",
       "      <td>-58.47066794</td>\n",
       "      <td>-34.65021673</td>\n",
       "      <td>AUTO</td>\n",
       "      <td>CARGAS</td>\n",
       "    </tr>\n",
       "    <tr>\n",
       "      <th>695</th>\n",
       "      <td>2021-0097</td>\n",
       "      <td>1</td>\n",
       "      <td>2021-11-18</td>\n",
       "      <td>6</td>\n",
       "      <td>PADRE CARLOS MUGICA 709</td>\n",
       "      <td>1</td>\n",
       "      <td>-58.37976155</td>\n",
       "      <td>-34.58679619</td>\n",
       "      <td>BICICLETA</td>\n",
       "      <td>AUTO</td>\n",
       "    </tr>\n",
       "  </tbody>\n",
       "</table>\n",
       "<p>696 rows × 10 columns</p>\n",
       "</div>"
      ],
      "text/plain": [
       "            ID  N_VICTIMAS      FECHA  HH  \\\n",
       "0    2016-0001           1 2016-01-01   4   \n",
       "1    2016-0002           1 2016-01-02   1   \n",
       "2    2016-0003           1 2016-01-03   7   \n",
       "3    2016-0004           1 2016-01-10   0   \n",
       "4    2016-0005           1 2016-01-21   5   \n",
       "..         ...         ...        ...  ..   \n",
       "691  2021-0093           1 2021-12-13  17   \n",
       "692  2021-0094           1 2021-12-20   1   \n",
       "693  2021-0095           1 2021-12-30   0   \n",
       "694  2021-0096           1 2021-12-15  10   \n",
       "695  2021-0097           1 2021-11-18   6   \n",
       "\n",
       "                                   Cruce  COMUNA         pos x         pos y  \\\n",
       "0    FERNANDEZ DE LA CRUZ, F., GRAL. AV.       8  -58.47533969  -34.68757022   \n",
       "1                    DE LOS CORRALES AV.       9  -58.50877521  -34.66977709   \n",
       "2                    ENTRE RIOS AV. 2034       1  -58.39040293  -34.63189362   \n",
       "3               VILLEGAS, CONRADO, GRAL.       8  -58.46503904  -34.68092974   \n",
       "4               SAENZ PEÃ‘A, LUIS, PRES.       1  -58.38718297  -34.62246630   \n",
       "..                                   ...     ...           ...           ...   \n",
       "691                                  MOM       7  -58.43353773  -34.64561636   \n",
       "692                          LACARRA AV.       9  -58.46739825  -34.65117757   \n",
       "693                              TERRADA      11  -58.47293407  -34.61984745   \n",
       "694                  PERON, EVA AV. 4071       9  -58.47066794  -34.65021673   \n",
       "695              PADRE CARLOS MUGICA 709       1  -58.37976155  -34.58679619   \n",
       "\n",
       "       VICTIMA    ACUSADO  \n",
       "0         MOTO       AUTO  \n",
       "1         AUTO  PASAJEROS  \n",
       "2         MOTO       AUTO  \n",
       "3         MOTO         SD  \n",
       "4         MOTO  PASAJEROS  \n",
       "..         ...        ...  \n",
       "691       MOTO       AUTO  \n",
       "692       MOTO       AUTO  \n",
       "693       MOTO     CARGAS  \n",
       "694       AUTO     CARGAS  \n",
       "695  BICICLETA       AUTO  \n",
       "\n",
       "[696 rows x 10 columns]"
      ]
     },
     "execution_count": 82,
     "metadata": {},
     "output_type": "execute_result"
    }
   ],
   "source": [
    "hechosnuevo = hechos[['ID','N_VICTIMAS','FECHA','HH','Cruce','COMUNA','pos x','pos y','VICTIMA','ACUSADO']]\n",
    "hechosnuevo"
   ]
  },
  {
   "cell_type": "code",
   "execution_count": 83,
   "metadata": {},
   "outputs": [
    {
     "name": "stderr",
     "output_type": "stream",
     "text": [
      "C:\\Users\\LENOVO\\AppData\\Local\\Temp\\ipykernel_29144\\3842734623.py:1: SettingWithCopyWarning: \n",
      "A value is trying to be set on a copy of a slice from a DataFrame\n",
      "\n",
      "See the caveats in the documentation: https://pandas.pydata.org/pandas-docs/stable/user_guide/indexing.html#returning-a-view-versus-a-copy\n",
      "  hechosnuevo.rename(columns={'ID':'ID_hecho','Cruce':'CRUCE','pos x':'LONGITUD','pos y':'LATITUD'},inplace=True)\n"
     ]
    }
   ],
   "source": [
    "hechosnuevo.rename(columns={'ID':'ID_hecho','Cruce':'CRUCE','pos x':'LONGITUD','pos y':'LATITUD'},inplace=True)"
   ]
  },
  {
   "cell_type": "code",
   "execution_count": 108,
   "metadata": {},
   "outputs": [
    {
     "name": "stderr",
     "output_type": "stream",
     "text": [
      "C:\\Users\\LENOVO\\AppData\\Local\\Temp\\ipykernel_29144\\1923391968.py:1: FutureWarning: Downcasting behavior in `replace` is deprecated and will be removed in a future version. To retain the old behavior, explicitly call `result.infer_objects(copy=False)`. To opt-in to the future behavior, set `pd.set_option('future.no_silent_downcasting', True)`\n",
      "  hechosnuevo['HH'].replace({'SD':0},inplace=True)\n",
      "C:\\Users\\LENOVO\\AppData\\Local\\Temp\\ipykernel_29144\\1923391968.py:1: SettingWithCopyWarning: \n",
      "A value is trying to be set on a copy of a slice from a DataFrame\n",
      "\n",
      "See the caveats in the documentation: https://pandas.pydata.org/pandas-docs/stable/user_guide/indexing.html#returning-a-view-versus-a-copy\n",
      "  hechosnuevo['HH'].replace({'SD':0},inplace=True)\n"
     ]
    }
   ],
   "source": [
    "hechosnuevo['HH'].replace({'SD':0},inplace=True)"
   ]
  },
  {
   "cell_type": "code",
   "execution_count": 114,
   "metadata": {},
   "outputs": [
    {
     "name": "stdout",
     "output_type": "stream",
     "text": [
      "<class 'pandas.core.frame.DataFrame'>\n",
      "RangeIndex: 696 entries, 0 to 695\n",
      "Data columns (total 10 columns):\n",
      " #   Column      Non-Null Count  Dtype         \n",
      "---  ------      --------------  -----         \n",
      " 0   ID_hecho    696 non-null    object        \n",
      " 1   N_VICTIMAS  696 non-null    int64         \n",
      " 2   FECHA       696 non-null    datetime64[ns]\n",
      " 3   HH          696 non-null    int64         \n",
      " 4   CRUCE       696 non-null    object        \n",
      " 5   COMUNA      696 non-null    int64         \n",
      " 6   LONGITUD    696 non-null    object        \n",
      " 7   LATITUD     696 non-null    object        \n",
      " 8   VICTIMA     696 non-null    object        \n",
      " 9   ACUSADO     696 non-null    object        \n",
      "dtypes: datetime64[ns](1), int64(3), object(6)\n",
      "memory usage: 54.5+ KB\n"
     ]
    }
   ],
   "source": [
    "hechosnuevo.info()"
   ]
  },
  {
   "cell_type": "code",
   "execution_count": 115,
   "metadata": {},
   "outputs": [],
   "source": [
    "hechosnuevo.to_csv('../Data/CSV/hechos_homicidios.csv')"
   ]
  },
  {
   "cell_type": "markdown",
   "metadata": {},
   "source": [
    "Procedo a hacer lo mismo con el dataframe de Victimas"
   ]
  },
  {
   "cell_type": "code",
   "execution_count": 95,
   "metadata": {},
   "outputs": [
    {
     "name": "stdout",
     "output_type": "stream",
     "text": [
      "<class 'pandas.core.frame.DataFrame'>\n",
      "RangeIndex: 717 entries, 0 to 716\n",
      "Data columns (total 10 columns):\n",
      " #   Column               Non-Null Count  Dtype         \n",
      "---  ------               --------------  -----         \n",
      " 0   ID_hecho             717 non-null    object        \n",
      " 1   FECHA                717 non-null    datetime64[ns]\n",
      " 2   AAAA                 717 non-null    int64         \n",
      " 3   MM                   717 non-null    int64         \n",
      " 4   DD                   717 non-null    int64         \n",
      " 5   ROL                  717 non-null    object        \n",
      " 6   VICTIMA              717 non-null    object        \n",
      " 7   SEXO                 717 non-null    object        \n",
      " 8   EDAD                 717 non-null    object        \n",
      " 9   FECHA_FALLECIMIENTO  717 non-null    object        \n",
      "dtypes: datetime64[ns](1), int64(3), object(6)\n",
      "memory usage: 56.1+ KB\n"
     ]
    }
   ],
   "source": [
    "# Analizamos el dataframe\n",
    "victimas.info()"
   ]
  },
  {
   "cell_type": "code",
   "execution_count": 117,
   "metadata": {},
   "outputs": [],
   "source": [
    "# Al no tener nulos unicamente tomare las columnas que considero mas importantes\n",
    "victimasnuevo = victimas[['ID_hecho','FECHA','ROL','VICTIMA','SEXO','EDAD']]"
   ]
  },
  {
   "cell_type": "code",
   "execution_count": 118,
   "metadata": {},
   "outputs": [
    {
     "name": "stdout",
     "output_type": "stream",
     "text": [
      "<class 'pandas.core.frame.DataFrame'>\n",
      "RangeIndex: 717 entries, 0 to 716\n",
      "Data columns (total 6 columns):\n",
      " #   Column    Non-Null Count  Dtype         \n",
      "---  ------    --------------  -----         \n",
      " 0   ID_hecho  717 non-null    object        \n",
      " 1   FECHA     717 non-null    datetime64[ns]\n",
      " 2   ROL       717 non-null    object        \n",
      " 3   VICTIMA   717 non-null    object        \n",
      " 4   SEXO      717 non-null    object        \n",
      " 5   EDAD      717 non-null    object        \n",
      "dtypes: datetime64[ns](1), object(5)\n",
      "memory usage: 33.7+ KB\n"
     ]
    }
   ],
   "source": [
    "victimasnuevo.info()"
   ]
  },
  {
   "cell_type": "code",
   "execution_count": 119,
   "metadata": {},
   "outputs": [],
   "source": [
    "# Exportamos a un archivo CSV\n",
    "victimasnuevo.to_csv('../Data/CSV/victimas_homicidios.csv')"
   ]
  }
 ],
 "metadata": {
  "kernelspec": {
   "display_name": "Python 3",
   "language": "python",
   "name": "python3"
  },
  "language_info": {
   "codemirror_mode": {
    "name": "ipython",
    "version": 3
   },
   "file_extension": ".py",
   "mimetype": "text/x-python",
   "name": "python",
   "nbconvert_exporter": "python",
   "pygments_lexer": "ipython3",
   "version": "3.12.3"
  }
 },
 "nbformat": 4,
 "nbformat_minor": 2
}
